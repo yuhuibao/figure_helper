{
 "cells": [
  {
   "cell_type": "code",
   "execution_count": null,
   "metadata": {},
   "outputs": [],
   "source": [
    "%load_ext autoreload\n",
    "%autoreload 2\n",
    "%matplotlib inline\n",
    "\n",
    "import matplotlib\n",
    "from matplotlib import rc\n",
    "import matplotlib.pyplot as plt\n",
    "import pandas as pd\n",
    "import seaborn as sns\n",
    "from textwrap import wrap\n",
    "\n",
    "\n",
    "rc('text', usetex=False)\n",
    "sns.set_context('paper', font_scale=2.0)\n",
    "sns.set_style('whitegrid')\n"
   ]
  },
  {
   "cell_type": "code",
   "execution_count": null,
   "metadata": {},
   "outputs": [],
   "source": [
    "raw_data = pd.read_csv('nhrdperf.csv')\n",
    "\n",
    "raw_data"
   ]
  },
  {
   "cell_type": "code",
   "execution_count": null,
   "metadata": {},
   "outputs": [],
   "source": [
    "stacked_data = raw_data\n",
    "\n",
    "stacked_data['LBPU'] = stacked_data['Baseline'] / stacked_data['LBPU']\n",
    "stacked_data['LBPUNotSplit'] = stacked_data['Baseline'] / stacked_data['LBPUNotSplit']\n",
    "stacked_data['Baseline'] = stacked_data['Baseline'] / stacked_data['Baseline']\n",
    "\n",
    "stacked_data = stacked_data.melt(id_vars=['Benchmark'], value_vars=['Baseline', 'LBPU','LBPUNotSplit'])\n",
    "stacked_data['Benchmark'] = stacked_data['Benchmark'].str.upper()\n",
    "stacked_data.columns = ['Benchmark', 'Configuration', 'Speedup']\n",
    "stacked_data = stacked_data.reset_index()\n",
    "stacked_data"
   ]
  },
  {
   "cell_type": "code",
   "execution_count": null,
   "metadata": {},
   "outputs": [],
   "source": [
    "fig, ax = plt.subplots(figsize=(10, 2))\n",
    "sns.barplot(data=stacked_data, \n",
    "            x='Benchmark', hue='Configuration', y='Speedup',\n",
    "            order=[\"FLW\", \"KM\", \"MM\", \"MT\", \"PR\", \"SPMV\", \"ST\", \"BS\", \"FIR\", \"SC\"], \n",
    "            hue_order=['Baseline', 'LBPUNotSplit', 'LBPU'],\n",
    "            palette=['#1A237E','#7986CB','#E8EAF6'], ec='k',\n",
    "            ax=ax)\n",
    "handles, labels = ax.get_legend_handles_labels()\n",
    "labels = ['Baseline', 'Prefetch without Buffer', 'Prefetch with Buffer']\n",
    "ax.legend(handles, labels, \n",
    "          frameon=False,\n",
    "          fancybox=None, \n",
    "          columnspacing=0.6,\n",
    "          facecolor=None, edgecolor=None, \n",
    "          bbox_to_anchor=(0.5, 1.12), loc=\"center\", ncol=3)\n",
    "ax.set_ylim(0.9, 1.5)\n",
    "# ax.set_yticks([0, 0.25, 0.5, 0.75, 1])\n",
    "ax.set_ylabel('Speedup')\n",
    "\n",
    "ax.text(2.75, 1.4, 1.6, \n",
    "        horizontalalignment='center', verticalalignment='center',\n",
    "        fontsize=18, bbox=dict(facecolor='white', ec='k'))\n",
    "ax.text(4.6, 1.4, 2.45, \n",
    "        horizontalalignment='center', verticalalignment='center',\n",
    "        fontsize=18, bbox=dict(facecolor='white', ec='k'))\n",
    "ax.text(5.65, 1.4, 3.55, \n",
    "        horizontalalignment='center', verticalalignment='center',\n",
    "        fontsize=18, bbox=dict(facecolor='white', ec='k'))\n",
    "\n",
    "\n",
    "ax.axvline(6.5, 0, 1, c='k', ls='--')\n",
    "ax.text(8, 1.4, 'TLB Insensitive',  horizontalalignment='center', verticalalignment='center',\n",
    "        fontsize=18)\n",
    "\n",
    "plt.savefig('nhrdperf.pdf', bbox_inches='tight')\n",
    "plt.savefig('nhrdperf.png', dpi=600, bbox_inches='tight')\n",
    "plt.show()\n",
    "plt.close()\n"
   ]
  },
  {
   "cell_type": "code",
   "execution_count": null,
   "metadata": {},
   "outputs": [],
   "source": []
  },
  {
   "cell_type": "code",
   "execution_count": null,
   "metadata": {},
   "outputs": [],
   "source": []
  }
 ],
 "metadata": {
  "kernelspec": {
   "display_name": "Python 3",
   "language": "python",
   "name": "python3"
  },
  "language_info": {
   "codemirror_mode": {
    "name": "ipython",
    "version": 3
   },
   "file_extension": ".py",
   "mimetype": "text/x-python",
   "name": "python",
   "nbconvert_exporter": "python",
   "pygments_lexer": "ipython3",
   "version": "3.7.5"
  }
 },
 "nbformat": 4,
 "nbformat_minor": 4
}
